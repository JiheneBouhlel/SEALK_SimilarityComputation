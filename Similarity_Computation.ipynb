{
 "cells": [
  {
   "cell_type": "code",
   "execution_count": 1,
   "metadata": {},
   "outputs": [],
   "source": [
    "import re\n",
    "import math\n",
    "from collections import Counter\n",
    "import json\n",
    "import pandas as pd"
   ]
  },
  {
   "cell_type": "code",
   "execution_count": 2,
   "metadata": {
    "scrolled": true
   },
   "outputs": [
    {
     "name": "stdout",
     "output_type": "stream",
     "text": [
      "          name                                topics\n",
      "0      Spotify  [music, streaming media, mobile app]\n",
      "1       Deezer         [music, mobile app, playlist]\n",
      "2         Nike           [clothing, footwear, brand]\n",
      "3  Nike France           [clothing, footwear, sport]\n",
      "4       Adidas              [footwear, sport, brand]\n",
      "5         Uber     [mobile app, carsharing, carpool]\n"
     ]
    }
   ],
   "source": [
    "df = pd.read_json (r'data.json')\n",
    "x=df['name'].values.tolist()\n",
    "y=df['topics'].values.tolist()\n",
    "\n",
    "print (df)"
   ]
  },
  {
   "cell_type": "markdown",
   "metadata": {},
   "source": [
    "## Finding companies that are similar to Spotify, Nike, and Uber based on their topics"
   ]
  },
  {
   "cell_type": "code",
   "execution_count": 3,
   "metadata": {},
   "outputs": [],
   "source": [
    "#Une fonction qui calcule l'occurence (Pour remplacer Counter )\n",
    "def add(w,d):\n",
    "    if not d.__contains__(w):\n",
    "        d[w]=1\n",
    "    else:\n",
    "        d[w]+=1\n",
    "\n",
    "#transformer les données en vecteur en se basant sur l'occurence des mots        \n",
    "def data_to_vector(data):\n",
    "    word = re.compile(r'\\w+')\n",
    "    words = word.findall(data)\n",
    "    d={}\n",
    "    for w in words:\n",
    "        ajoute(w,d)\n",
    "    return d\n",
    "\n",
    "\n",
    "#transformer les mots en vecteur en se basant sur l'occurence des caractères\n",
    "def word_to_vector(data):\n",
    "    d={}\n",
    "    for w in data:\n",
    "        ajoute(w,d)\n",
    "    return d\n",
    "\n",
    "#utilisation de la methode \"cosine similarity\"\n",
    "def cosine_sim(v1, v2):\n",
    "    intersection = set(v1.keys()) & set(v2.keys())\n",
    "    numerator = sum([v1[x] * v2[x] for x in intersection])\n",
    "    s1 = sum([v1[x]**2 for x in v1.keys()])\n",
    "    s2 = sum([v2[x]**2 for x in v2.keys()])\n",
    "    denominator = math.sqrt(s1) * math.sqrt(s2)\n",
    "\n",
    "    if not denominator:\n",
    "        return 0.0\n",
    "    else:\n",
    "        return float(numerator) / denominator\n",
    "\n",
    "#utilisation distance de Jaccard\n",
    "def jaccard(v1, v2):\n",
    "    v3 = v1.intersection(v2)\n",
    "    return float(len(v3)) / (len(v1) + len(v2) - len(v3))\n"
   ]
  },
  {
   "cell_type": "code",
   "execution_count": 4,
   "metadata": {},
   "outputs": [
    {
     "name": "stdout",
     "output_type": "stream",
     "text": [
      "similarité de  Spotify avec \n",
      "\n",
      "\t Spotify\n"
     ]
    },
    {
     "ename": "NameError",
     "evalue": "name 'ajoute' is not defined",
     "output_type": "error",
     "traceback": [
      "\u001b[0;31m---------------------------------------------------------------------------\u001b[0m",
      "\u001b[0;31mNameError\u001b[0m                                 Traceback (most recent call last)",
      "\u001b[0;32m<ipython-input-4-1ce07e436619>\u001b[0m in \u001b[0;36m<module>\u001b[0;34m\u001b[0m\n\u001b[1;32m      5\u001b[0m     \u001b[0;32mfor\u001b[0m \u001b[0mi\u001b[0m \u001b[0;32min\u001b[0m \u001b[0mrange\u001b[0m\u001b[0;34m(\u001b[0m\u001b[0mlen\u001b[0m\u001b[0;34m(\u001b[0m\u001b[0mdf\u001b[0m\u001b[0;34m)\u001b[0m\u001b[0;34m)\u001b[0m\u001b[0;34m:\u001b[0m\u001b[0;34m\u001b[0m\u001b[0;34m\u001b[0m\u001b[0m\n\u001b[1;32m      6\u001b[0m         \u001b[0mprint\u001b[0m\u001b[0;34m(\u001b[0m\u001b[0;34m'\\t'\u001b[0m\u001b[0;34m,\u001b[0m\u001b[0mx\u001b[0m\u001b[0;34m[\u001b[0m\u001b[0mi\u001b[0m\u001b[0;34m]\u001b[0m\u001b[0;34m)\u001b[0m\u001b[0;34m\u001b[0m\u001b[0;34m\u001b[0m\u001b[0m\n\u001b[0;32m----> 7\u001b[0;31m         \u001b[0mprint\u001b[0m\u001b[0;34m(\u001b[0m\u001b[0;34m'\\t   resultat de cosine similarity '\u001b[0m\u001b[0;34m,\u001b[0m\u001b[0mcosine_sim\u001b[0m\u001b[0;34m(\u001b[0m\u001b[0mdata_to_vector\u001b[0m\u001b[0;34m(\u001b[0m\u001b[0mstr\u001b[0m\u001b[0;34m(\u001b[0m\u001b[0my\u001b[0m\u001b[0;34m[\u001b[0m\u001b[0mn\u001b[0m\u001b[0;34m]\u001b[0m\u001b[0;34m)\u001b[0m\u001b[0;34m)\u001b[0m\u001b[0;34m,\u001b[0m \u001b[0mdata_to_vector\u001b[0m\u001b[0;34m(\u001b[0m\u001b[0mstr\u001b[0m\u001b[0;34m(\u001b[0m\u001b[0my\u001b[0m\u001b[0;34m[\u001b[0m\u001b[0mi\u001b[0m\u001b[0;34m]\u001b[0m\u001b[0;34m)\u001b[0m\u001b[0;34m)\u001b[0m\u001b[0;34m)\u001b[0m\u001b[0;34m)\u001b[0m\u001b[0;34m\u001b[0m\u001b[0;34m\u001b[0m\u001b[0m\n\u001b[0m\u001b[1;32m      8\u001b[0m         \u001b[0mprint\u001b[0m\u001b[0;34m(\u001b[0m\u001b[0;34m'\\t   resultat de distance de Jaccard '\u001b[0m\u001b[0;34m,\u001b[0m\u001b[0mjaccard\u001b[0m\u001b[0;34m(\u001b[0m\u001b[0mset\u001b[0m\u001b[0;34m(\u001b[0m\u001b[0my\u001b[0m\u001b[0;34m[\u001b[0m\u001b[0mn\u001b[0m\u001b[0;34m]\u001b[0m\u001b[0;34m)\u001b[0m\u001b[0;34m,\u001b[0m \u001b[0mset\u001b[0m\u001b[0;34m(\u001b[0m\u001b[0my\u001b[0m\u001b[0;34m[\u001b[0m\u001b[0mi\u001b[0m\u001b[0;34m]\u001b[0m\u001b[0;34m)\u001b[0m\u001b[0;34m)\u001b[0m\u001b[0;34m,\u001b[0m\u001b[0;34m'\\n'\u001b[0m\u001b[0;34m)\u001b[0m\u001b[0;34m\u001b[0m\u001b[0;34m\u001b[0m\u001b[0m\n",
      "\u001b[0;32m<ipython-input-3-ab371bf333e8>\u001b[0m in \u001b[0;36mdata_to_vector\u001b[0;34m(data)\u001b[0m\n\u001b[1;32m     12\u001b[0m     \u001b[0md\u001b[0m\u001b[0;34m=\u001b[0m\u001b[0;34m{\u001b[0m\u001b[0;34m}\u001b[0m\u001b[0;34m\u001b[0m\u001b[0;34m\u001b[0m\u001b[0m\n\u001b[1;32m     13\u001b[0m     \u001b[0;32mfor\u001b[0m \u001b[0mw\u001b[0m \u001b[0;32min\u001b[0m \u001b[0mwords\u001b[0m\u001b[0;34m:\u001b[0m\u001b[0;34m\u001b[0m\u001b[0;34m\u001b[0m\u001b[0m\n\u001b[0;32m---> 14\u001b[0;31m         \u001b[0majoute\u001b[0m\u001b[0;34m(\u001b[0m\u001b[0mw\u001b[0m\u001b[0;34m,\u001b[0m\u001b[0md\u001b[0m\u001b[0;34m)\u001b[0m\u001b[0;34m\u001b[0m\u001b[0;34m\u001b[0m\u001b[0m\n\u001b[0m\u001b[1;32m     15\u001b[0m     \u001b[0;32mreturn\u001b[0m \u001b[0md\u001b[0m\u001b[0;34m\u001b[0m\u001b[0;34m\u001b[0m\u001b[0m\n\u001b[1;32m     16\u001b[0m \u001b[0;34m\u001b[0m\u001b[0m\n",
      "\u001b[0;31mNameError\u001b[0m: name 'ajoute' is not defined"
     ]
    }
   ],
   "source": [
    "names = [str(x[0]),str(x[2]),str(x[5])]\n",
    "\n",
    "for n in [0, 2, 5]:\n",
    "    print('similarité de ',str(x[n]),'avec \\n')\n",
    "    for i in range(len(df)):\n",
    "        print('\\t',x[i])\n",
    "        print('\\t   resultat de cosine similarity ',cosine_sim(data_to_vector(str(y[n])), data_to_vector(str(y[i]))))\n",
    "        print('\\t   resultat de distance de Jaccard ',jaccard(set(y[n]), set(y[i])),'\\n')"
   ]
  },
  {
   "cell_type": "markdown",
   "metadata": {},
   "source": [
    "### Finding companies that are similar to Spotify, Nike, and Uber based on their names"
   ]
  },
  {
   "cell_type": "code",
   "execution_count": null,
   "metadata": {},
   "outputs": [],
   "source": [
    "names = [str(x[0]),str(x[2]),str(x[5])]\n",
    "for n in names:\n",
    "    print('similarité de ',n,'avec \\n')\n",
    "    for i in range(len(df)):\n",
    "        print('\\t',x[i])\n",
    "        print('\\t   resultat de cosine similarity ',cosine_sim(word_to_vector(n), word_to_vector(str(x[i]))))\n",
    "        print('\\t   resultat de distance de Jaccard ',jaccard(set(n), set(x[i])),'\\n')\n"
   ]
  }
 ],
 "metadata": {
  "kernelspec": {
   "display_name": "Python 3",
   "language": "python",
   "name": "python3"
  },
  "language_info": {
   "codemirror_mode": {
    "name": "ipython",
    "version": 3
   },
   "file_extension": ".py",
   "mimetype": "text/x-python",
   "name": "python",
   "nbconvert_exporter": "python",
   "pygments_lexer": "ipython3",
   "version": "3.7.4"
  }
 },
 "nbformat": 4,
 "nbformat_minor": 2
}
