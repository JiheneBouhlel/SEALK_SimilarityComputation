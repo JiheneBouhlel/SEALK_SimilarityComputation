{
 "cells": [
  {
   "cell_type": "code",
   "execution_count": 1,
   "metadata": {},
   "outputs": [],
   "source": [
    "import re\n",
    "import math\n",
    "from collections import Counter\n",
    "import json\n",
    "import pandas as pd"
   ]
  },
  {
   "cell_type": "code",
   "execution_count": 2,
   "metadata": {
    "scrolled": true
   },
   "outputs": [
    {
     "name": "stdout",
     "output_type": "stream",
     "text": [
      "          name                                topics\n",
      "0      Spotify  [music, streaming media, mobile app]\n",
      "1       Deezer         [music, mobile app, playlist]\n",
      "2         Nike           [clothing, footwear, brand]\n",
      "3  Nike France           [clothing, footwear, sport]\n",
      "4       Adidas              [footwear, sport, brand]\n",
      "5         Uber     [mobile app, carsharing, carpool]\n"
     ]
    }
   ],
   "source": [
    "df = pd.read_json (r'data.json')\n",
    "x=df['name'].values.tolist()\n",
    "y=df['topics'].values.tolist()\n",
    "\n",
    "print (df)"
   ]
  },
  {
   "cell_type": "markdown",
   "metadata": {},
   "source": [
    "## Finding companies that are similar to Spotify, Nike, and Uber based on their topics"
   ]
  },
  {
   "cell_type": "code",
   "execution_count": 3,
   "metadata": {},
   "outputs": [],
   "source": [
    "#transformer les données en vecteur en se basant sur l'occurence des mots\n",
    "def data_to_vector(data):\n",
    "    word = re.compile(r'\\w+')\n",
    "    words = word.findall(data)\n",
    "    return Counter(words)\n",
    "\n",
    "#utilisation de la methode \"cosine similarity\"\n",
    "def cosine_sim(vec1, vec2):\n",
    "    intersection = set(vec1.keys()) & set(vec2.keys())\n",
    "    numerator = sum([vec1[x] * vec2[x] for x in intersection])\n",
    "    sum1 = sum([vec1[x]**2 for x in vec1.keys()])\n",
    "    sum2 = sum([vec2[x]**2 for x in vec2.keys()])\n",
    "    denominator = math.sqrt(sum1) * math.sqrt(sum2)\n",
    "\n",
    "    if not denominator:\n",
    "        return 0.0\n",
    "    else:\n",
    "        return float(numerator) / denominator\n",
    "\n",
    "\n",
    "\n",
    "def result(vector1, vector2):\n",
    "    cosine_result = cosine_sim(data_to_vector(vector1), data_to_vector(vector2))\n",
    "    return cosine_result"
   ]
  },
  {
   "cell_type": "code",
   "execution_count": 4,
   "metadata": {},
   "outputs": [],
   "source": [
    "#utilisation distance de Jaccard\n",
    "def jaccard(a, b):\n",
    "    c = a.intersection(b)\n",
    "    return float(len(c)) / (len(a) + len(b) - len(c))\n",
    "\n"
   ]
  },
  {
   "cell_type": "markdown",
   "metadata": {},
   "source": [
    "#### Les compagnies similaires à Spotify"
   ]
  },
  {
   "cell_type": "code",
   "execution_count": 5,
   "metadata": {},
   "outputs": [
    {
     "name": "stdout",
     "output_type": "stream",
     "text": [
      "similarité de spotify avec \n",
      "\n",
      "Spotify\n",
      "   resultat de cosine similarity  0.9999999999999998\n",
      "   resultat de distance de Jaccard  1.0\n",
      "Deezer\n",
      "   resultat de cosine similarity  0.6708203932499369\n",
      "   resultat de distance de Jaccard  0.5\n",
      "Nike\n",
      "   resultat de cosine similarity  0.0\n",
      "   resultat de distance de Jaccard  0.0\n",
      "Nike France\n",
      "   resultat de cosine similarity  0.0\n",
      "   resultat de distance de Jaccard  0.0\n",
      "Adidas\n",
      "   resultat de cosine similarity  0.0\n",
      "   resultat de distance de Jaccard  0.0\n",
      "Uber\n",
      "   resultat de cosine similarity  0.4472135954999579\n",
      "   resultat de distance de Jaccard  0.2\n"
     ]
    }
   ],
   "source": [
    "spotyTopic= str(y[0])\n",
    "print('similarité de spotify avec \\n')\n",
    "for i in range(len(df)):\n",
    "    print(x[i])\n",
    "    print('   resultat de cosine similarity ',result(spotyTopic, str(y[i]))) \n",
    "    print('   resultat de distance de Jaccard ',jaccard(set(y[0]), set(y[i]))) "
   ]
  },
  {
   "cell_type": "markdown",
   "metadata": {},
   "source": [
    "### Les compagnies similaires à Nike"
   ]
  },
  {
   "cell_type": "code",
   "execution_count": 6,
   "metadata": {},
   "outputs": [
    {
     "name": "stdout",
     "output_type": "stream",
     "text": [
      "similarité de nike avec \n",
      "\n",
      "Spotify\n",
      "   resultat de cosine similarity  0.0\n",
      "   resultat de distance de Jaccard  0.0\n",
      "Deezer\n",
      "   resultat de cosine similarity  0.0\n",
      "   resultat de distance de Jaccard  0.0\n",
      "Nike\n",
      "   resultat de cosine similarity  1.0000000000000002\n",
      "   resultat de distance de Jaccard  1.0\n",
      "Nike France\n",
      "   resultat de cosine similarity  0.6666666666666667\n",
      "   resultat de distance de Jaccard  0.5\n",
      "Adidas\n",
      "   resultat de cosine similarity  0.6666666666666667\n",
      "   resultat de distance de Jaccard  0.5\n",
      "Uber\n",
      "   resultat de cosine similarity  0.0\n",
      "   resultat de distance de Jaccard  0.0\n"
     ]
    }
   ],
   "source": [
    "nikeTopic= str(y[2])\n",
    "\n",
    "print('similarité de nike avec \\n')\n",
    "for i in range(len(df)):\n",
    "    print(x[i])\n",
    "    print('   resultat de cosine similarity ',result(nikeTopic, str(y[i]))) \n",
    "    print('   resultat de distance de Jaccard ',jaccard(set(y[2]), set(y[i]))) "
   ]
  },
  {
   "cell_type": "markdown",
   "metadata": {},
   "source": [
    "### Les compagnies similaires à Uber"
   ]
  },
  {
   "cell_type": "code",
   "execution_count": 7,
   "metadata": {},
   "outputs": [
    {
     "name": "stdout",
     "output_type": "stream",
     "text": [
      "similarité de uber avec \n",
      "\n",
      "Spotify\n",
      "   resultat de cosine similarity  0.4472135954999579\n",
      "   resultat de distance de Jaccard  0.2\n",
      "Deezer\n",
      "   resultat de cosine similarity  0.5\n",
      "   resultat de distance de Jaccard  0.2\n",
      "Nike\n",
      "   resultat de cosine similarity  0.0\n",
      "   resultat de distance de Jaccard  0.0\n",
      "Nike France\n",
      "   resultat de cosine similarity  0.0\n",
      "   resultat de distance de Jaccard  0.0\n",
      "Adidas\n",
      "   resultat de cosine similarity  0.0\n",
      "   resultat de distance de Jaccard  0.0\n",
      "Uber\n",
      "   resultat de cosine similarity  1.0\n",
      "   resultat de distance de Jaccard  1.0\n"
     ]
    }
   ],
   "source": [
    "uberTopic= str(y[5])    \n",
    "print('similarité de uber avec \\n')\n",
    "for i in range(len(df)):\n",
    "    print(x[i])\n",
    "    print('   resultat de cosine similarity ',result(uberTopic, str(y[i]))) \n",
    "    print('   resultat de distance de Jaccard ',jaccard(set(y[5]), set(y[i]))) "
   ]
  },
  {
   "cell_type": "markdown",
   "metadata": {},
   "source": [
    "### Finding companies that are similar to Spotify, Nike, and Uber based on their names"
   ]
  },
  {
   "cell_type": "code",
   "execution_count": 8,
   "metadata": {},
   "outputs": [],
   "source": [
    "#transformer les mots en vecteur en se basant sur l'occurence des caractères\n",
    "def word_to_vector(data):\n",
    "    return Counter(data)\n",
    "\n",
    "def result(vector1, vector2):\n",
    "    cosine_result = cosine_sim(word_to_vector(vector1), word_to_vector(vector2))\n",
    "    return cosine_result"
   ]
  },
  {
   "cell_type": "code",
   "execution_count": 9,
   "metadata": {},
   "outputs": [],
   "source": [
    "def jaccard(x, y):\n",
    "    a=set(x)\n",
    "    b=set(y)\n",
    "    c = a.intersection(b)\n",
    "    return float(len(c)) / (len(a) + len(b) - len(c))\n"
   ]
  },
  {
   "cell_type": "markdown",
   "metadata": {},
   "source": [
    "### Les compagnies similaires à Spotify"
   ]
  },
  {
   "cell_type": "code",
   "execution_count": 10,
   "metadata": {},
   "outputs": [
    {
     "name": "stdout",
     "output_type": "stream",
     "text": [
      "similarité de Spotify avec \n",
      "Spotify\n",
      "   resultat de cosine similarity  0.9999999999999999\n",
      "   resultat de distance de Jaccard  1.0\n",
      "Deezer\n",
      "   resultat de cosine similarity  0.0\n",
      "   resultat de distance de Jaccard  0.0\n",
      "Nike\n",
      "   resultat de cosine similarity  0.1889822365046136\n",
      "   resultat de distance de Jaccard  0.1\n",
      "Nike France\n",
      "   resultat de cosine similarity  0.10482848367219183\n",
      "   resultat de distance de Jaccard  0.0625\n",
      "Adidas\n",
      "   resultat de cosine similarity  0.13363062095621217\n",
      "   resultat de distance de Jaccard  0.09090909090909091\n",
      "Uber\n",
      "   resultat de cosine similarity  0.0\n",
      "   resultat de distance de Jaccard  0.0\n"
     ]
    }
   ],
   "source": [
    "spotify= str(x[0])\n",
    "print('similarité de Spotify avec ')\n",
    "for i in range(len(df)):\n",
    "    print(x[i])\n",
    "    print('   resultat de cosine similarity ',result(spotify, str(x[i])))\n",
    "    print('   resultat de distance de Jaccard ',jaccard(str(x[0]), str(x[i])))"
   ]
  },
  {
   "cell_type": "markdown",
   "metadata": {},
   "source": [
    "### Les compagnies similaires à Nike"
   ]
  },
  {
   "cell_type": "code",
   "execution_count": 11,
   "metadata": {},
   "outputs": [
    {
     "name": "stdout",
     "output_type": "stream",
     "text": [
      "similarité de Nike avec \n",
      "Spotify\n",
      "   resultat de cosine similarity  0.1889822365046136\n",
      "   resultat de distance de Jaccard  0.1\n",
      "Deezer\n",
      "   resultat de cosine similarity  0.43301270189221935\n",
      "   resultat de distance de Jaccard  0.14285714285714285\n",
      "Nike\n",
      "   resultat de cosine similarity  1.0\n",
      "   resultat de distance de Jaccard  1.0\n",
      "Nike France\n",
      "   resultat de cosine similarity  0.6933752452815365\n",
      "   resultat de distance de Jaccard  0.4\n",
      "Adidas\n",
      "   resultat de cosine similarity  0.17677669529663687\n",
      "   resultat de distance de Jaccard  0.125\n",
      "Uber\n",
      "   resultat de cosine similarity  0.25\n",
      "   resultat de distance de Jaccard  0.14285714285714285\n"
     ]
    }
   ],
   "source": [
    "nike= str(x[2])\n",
    "print('similarité de Nike avec ')\n",
    "for i in range(len(df)):\n",
    "    print(x[i])\n",
    "    print('   resultat de cosine similarity ',result(nike, str(x[i])))\n",
    "    print('   resultat de distance de Jaccard ',jaccard(str(x[2]), str(x[i])))"
   ]
  },
  {
   "cell_type": "markdown",
   "metadata": {},
   "source": [
    "### Les compagnies similaires à Uber"
   ]
  },
  {
   "cell_type": "code",
   "execution_count": 12,
   "metadata": {},
   "outputs": [
    {
     "name": "stdout",
     "output_type": "stream",
     "text": [
      "similarité de Uber avec \n",
      "Spotify\n",
      "   resultat de cosine similarity  0.0\n",
      "   resultat de distance de Jaccard  0.0\n",
      "Deezer\n",
      "   resultat de cosine similarity  0.5773502691896258\n",
      "   resultat de distance de Jaccard  0.3333333333333333\n",
      "Nike\n",
      "   resultat de cosine similarity  0.25\n",
      "   resultat de distance de Jaccard  0.14285714285714285\n",
      "Nike France\n",
      "   resultat de cosine similarity  0.41602514716892186\n",
      "   resultat de distance de Jaccard  0.16666666666666666\n",
      "Adidas\n",
      "   resultat de cosine similarity  0.0\n",
      "   resultat de distance de Jaccard  0.0\n",
      "Uber\n",
      "   resultat de cosine similarity  1.0\n",
      "   resultat de distance de Jaccard  1.0\n"
     ]
    }
   ],
   "source": [
    "uber= str(x[5])\n",
    "print('similarité de Uber avec ')\n",
    "for i in range(len(df)):\n",
    "    print(x[i])\n",
    "    print('   resultat de cosine similarity ',result(uber, str(x[i])))\n",
    "    print('   resultat de distance de Jaccard ',jaccard(str(x[5]), str(x[i])))"
   ]
  }
 ],
 "metadata": {
  "kernelspec": {
   "display_name": "Python 3",
   "language": "python",
   "name": "python3"
  },
  "language_info": {
   "codemirror_mode": {
    "name": "ipython",
    "version": 3
   },
   "file_extension": ".py",
   "mimetype": "text/x-python",
   "name": "python",
   "nbconvert_exporter": "python",
   "pygments_lexer": "ipython3",
   "version": "3.7.4"
  }
 },
 "nbformat": 4,
 "nbformat_minor": 2
}
