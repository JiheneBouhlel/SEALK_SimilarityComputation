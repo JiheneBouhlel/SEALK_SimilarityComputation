{
 "cells": [
  {
   "cell_type": "code",
   "execution_count": 1,
   "metadata": {},
   "outputs": [],
   "source": [
    "import re\n",
    "import math\n",
    "from collections import Counter\n",
    "import json\n",
    "import numpy\n",
    "import pandas as pd"
   ]
  },
  {
   "cell_type": "code",
   "execution_count": 2,
   "metadata": {
    "scrolled": true
   },
   "outputs": [
    {
     "name": "stdout",
     "output_type": "stream",
     "text": [
      "          name                                topics\n",
      "0      Spotify  [music, streaming media, mobile app]\n",
      "1       Deezer         [music, mobile app, playlist]\n",
      "2         Nike           [clothing, footwear, brand]\n",
      "3  Nike France           [clothing, footwear, sport]\n",
      "4       Adidas              [footwear, sport, brand]\n",
      "5         Uber     [mobile app, carsharing, carpool]\n"
     ]
    }
   ],
   "source": [
    "df = pd.read_json (r'data.json')\n",
    "x=df['name'].values.tolist()\n",
    "y=df['topics'].values.tolist()\n",
    "print (df)"
   ]
  },
  {
   "cell_type": "markdown",
   "metadata": {},
   "source": [
    "### Finding companies that are similar to Spotify, Nike, and Uber based on their topics"
   ]
  },
  {
   "cell_type": "code",
   "execution_count": 3,
   "metadata": {},
   "outputs": [],
   "source": [
    "#transformer les données en vecteur en se basant sur l'occurence des mots\n",
    "def data_to_vector(data):\n",
    "    word = re.compile(r'\\w+')\n",
    "    words = word.findall(data)\n",
    "    return Counter(words)\n",
    "\n",
    "#utilisation de la methode \"cosine similarity\"\n",
    "def cosine_sim(vec1, vec2):\n",
    "    intersection = set(vec1.keys()) & set(vec2.keys())\n",
    "    numerator = sum([vec1[x] * vec2[x] for x in intersection])\n",
    "    sum1 = sum([vec1[x]**2 for x in vec1.keys()])\n",
    "    sum2 = sum([vec2[x]**2 for x in vec2.keys()])\n",
    "    denominator = math.sqrt(sum1) * math.sqrt(sum2)\n",
    "\n",
    "    if not denominator:\n",
    "        return 0.0\n",
    "    else:\n",
    "        return float(numerator) / denominator\n",
    "\n",
    "\n",
    "def result(vector1, vector2):\n",
    "    cosine_result = cosine_sim(data_to_vector(vector1), data_to_vector(vector2))\n",
    "    return cosine_result"
   ]
  },
  {
   "cell_type": "markdown",
   "metadata": {},
   "source": [
    "#### Les compagnies similaires à Spotify"
   ]
  },
  {
   "cell_type": "code",
   "execution_count": 4,
   "metadata": {},
   "outputs": [
    {
     "name": "stdout",
     "output_type": "stream",
     "text": [
      "similarité de spotify avec  Spotify\n",
      "0.9999999999999998\n",
      "similarité de spotify avec  Deezer\n",
      "0.6708203932499369\n",
      "similarité de spotify avec  Nike\n",
      "0.0\n",
      "similarité de spotify avec  Nike France\n",
      "0.0\n",
      "similarité de spotify avec  Adidas\n",
      "0.0\n",
      "similarité de spotify avec  Uber\n",
      "0.4472135954999579\n"
     ]
    }
   ],
   "source": [
    "spotyTopic= str(y[0])\n",
    "for i in range(len(df)):\n",
    "    print('similarité de spotify avec ',x[i])\n",
    "    print(result(spotyTopic, str(y[i]))) "
   ]
  },
  {
   "cell_type": "markdown",
   "metadata": {},
   "source": [
    "### Les compagnies similaires à Nike"
   ]
  },
  {
   "cell_type": "code",
   "execution_count": 5,
   "metadata": {},
   "outputs": [
    {
     "name": "stdout",
     "output_type": "stream",
     "text": [
      "similarité de nike avec  Spotify\n",
      "0.0\n",
      "similarité de nike avec  Deezer\n",
      "0.0\n",
      "similarité de nike avec  Nike\n",
      "1.0000000000000002\n",
      "similarité de nike avec  Nike France\n",
      "0.6666666666666667\n",
      "similarité de nike avec  Adidas\n",
      "0.6666666666666667\n",
      "similarité de nike avec  Uber\n",
      "0.0\n"
     ]
    }
   ],
   "source": [
    "nikeTopic= str(y[2])\n",
    "for i in range(len(df)):\n",
    "    print('similarité de nike avec ',x[i])\n",
    "    print(result(nikeTopic, str(y[i]))) "
   ]
  },
  {
   "cell_type": "markdown",
   "metadata": {},
   "source": [
    "### Les compagnies similaires à Uber"
   ]
  },
  {
   "cell_type": "code",
   "execution_count": 6,
   "metadata": {},
   "outputs": [
    {
     "name": "stdout",
     "output_type": "stream",
     "text": [
      "similarité de uber avec  Spotify\n",
      "0.4472135954999579\n",
      "similarité de uber avec  Deezer\n",
      "0.5\n",
      "similarité de uber avec  Nike\n",
      "0.0\n",
      "similarité de uber avec  Nike France\n",
      "0.0\n",
      "similarité de uber avec  Adidas\n",
      "0.0\n",
      "similarité de uber avec  Uber\n",
      "1.0\n"
     ]
    }
   ],
   "source": [
    "uberTopic= str(y[5])\n",
    "for i in range(len(df)):\n",
    "    print('similarité de uber avec ',x[i])\n",
    "    print(result(uberTopic, str(y[i]))) "
   ]
  },
  {
   "cell_type": "markdown",
   "metadata": {},
   "source": [
    "### Finding companies that are similar to Spotify, Nike, and Uber based on their names"
   ]
  },
  {
   "cell_type": "code",
   "execution_count": 7,
   "metadata": {},
   "outputs": [],
   "source": [
    "#transformer les mots en vecteur en se basant sur l'occurence des caractères\n",
    "def word_to_vector(data):\n",
    "    return Counter(data)\n",
    "\n",
    "def result(vector1, vector2):\n",
    "    cosine_result = cosine_sim(word_to_vector(vector1), word_to_vector(vector2))\n",
    "    return cosine_result"
   ]
  },
  {
   "cell_type": "markdown",
   "metadata": {},
   "source": [
    "### Les compagnies similaires à Spotify"
   ]
  },
  {
   "cell_type": "code",
   "execution_count": 8,
   "metadata": {},
   "outputs": [
    {
     "name": "stdout",
     "output_type": "stream",
     "text": [
      "similarité de Spotify avec  Spotify\n",
      "0.9999999999999999\n",
      "similarité de Spotify avec  Deezer\n",
      "0.0\n",
      "similarité de Spotify avec  Nike\n",
      "0.1889822365046136\n",
      "similarité de Spotify avec  Nike France\n",
      "0.10482848367219183\n",
      "similarité de Spotify avec  Adidas\n",
      "0.13363062095621217\n",
      "similarité de Spotify avec  Uber\n",
      "0.0\n"
     ]
    }
   ],
   "source": [
    "spotify= str(x[0])\n",
    "for i in range(len(df)):\n",
    "    print('similarité de Spotify avec ',x[i])\n",
    "    print(result(spotify, str(x[i]))) "
   ]
  },
  {
   "cell_type": "markdown",
   "metadata": {},
   "source": [
    "### Les compagnies similaires à Nike"
   ]
  },
  {
   "cell_type": "code",
   "execution_count": 9,
   "metadata": {},
   "outputs": [
    {
     "name": "stdout",
     "output_type": "stream",
     "text": [
      "similarité de Nike avec  Spotify\n",
      "0.1889822365046136\n",
      "similarité de Nike avec  Deezer\n",
      "0.43301270189221935\n",
      "similarité de Nike avec  Nike\n",
      "1.0\n",
      "similarité de Nike avec  Nike France\n",
      "0.6933752452815365\n",
      "similarité de Nike avec  Adidas\n",
      "0.17677669529663687\n",
      "similarité de Nike avec  Uber\n",
      "0.25\n"
     ]
    }
   ],
   "source": [
    "nike= str(x[2])\n",
    "for i in range(len(df)):\n",
    "    print('similarité de Nike avec ',x[i])\n",
    "    print(result(nike, str(x[i]))) "
   ]
  },
  {
   "cell_type": "markdown",
   "metadata": {},
   "source": [
    "### Les compagnies similaires à Uber"
   ]
  },
  {
   "cell_type": "code",
   "execution_count": 10,
   "metadata": {},
   "outputs": [
    {
     "name": "stdout",
     "output_type": "stream",
     "text": [
      "similarité de uber avec  Spotify\n",
      "0.0\n",
      "similarité de uber avec  Deezer\n",
      "0.5773502691896258\n",
      "similarité de uber avec  Nike\n",
      "0.25\n",
      "similarité de uber avec  Nike France\n",
      "0.41602514716892186\n",
      "similarité de uber avec  Adidas\n",
      "0.0\n",
      "similarité de uber avec  Uber\n",
      "1.0\n"
     ]
    }
   ],
   "source": [
    "uber= str(x[5])\n",
    "for i in range(len(df)):\n",
    "    print('similarité de uber avec ',x[i])\n",
    "    print(result(uber, str(x[i]))) "
   ]
  },
  {
   "cell_type": "code",
   "execution_count": null,
   "metadata": {},
   "outputs": [],
   "source": []
  }
 ],
 "metadata": {
  "kernelspec": {
   "display_name": "Python 3",
   "language": "python",
   "name": "python3"
  },
  "language_info": {
   "codemirror_mode": {
    "name": "ipython",
    "version": 3
   },
   "file_extension": ".py",
   "mimetype": "text/x-python",
   "name": "python",
   "nbconvert_exporter": "python",
   "pygments_lexer": "ipython3",
   "version": "3.7.4"
  }
 },
 "nbformat": 4,
 "nbformat_minor": 2
}
