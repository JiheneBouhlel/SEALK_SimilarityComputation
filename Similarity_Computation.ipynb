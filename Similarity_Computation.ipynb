{
 "cells": [
  {
   "cell_type": "code",
   "execution_count": 1,
   "metadata": {},
   "outputs": [],
   "source": [
    "import re\n",
    "import math\n",
    "from collections import Counter\n",
    "import json\n",
    "import pandas as pd"
   ]
  },
  {
   "cell_type": "code",
   "execution_count": 2,
   "metadata": {
    "scrolled": true
   },
   "outputs": [
    {
     "name": "stdout",
     "output_type": "stream",
     "text": [
      "          name                                topics\n",
      "0      Spotify  [music, streaming media, mobile app]\n",
      "1       Deezer         [music, mobile app, playlist]\n",
      "2         Nike           [clothing, footwear, brand]\n",
      "3  Nike France           [clothing, footwear, sport]\n",
      "4       Adidas              [footwear, sport, brand]\n",
      "5         Uber     [mobile app, carsharing, carpool]\n"
     ]
    }
   ],
   "source": [
    "df = pd.read_json (r'data.json')\n",
    "x=df['name'].values.tolist()\n",
    "y=df['topics'].values.tolist()\n",
    "\n",
    "print (df)"
   ]
  },
  {
   "cell_type": "markdown",
   "metadata": {},
   "source": [
    "## Finding companies that are similar to Spotify, Nike, and Uber based on their topics"
   ]
  },
  {
   "cell_type": "code",
   "execution_count": 3,
   "metadata": {},
   "outputs": [],
   "source": [
    "#transformer les données en vecteur en se basant sur l'occurence des mots\n",
    "def data_to_vector(data):\n",
    "    word = re.compile(r'\\w+')\n",
    "    words = word.findall(data)\n",
    "    return Counter(words)\n",
    "\n",
    "#utilisation de la methode \"cosine similarity\"\n",
    "def cosine_sim(v1, v2):\n",
    "    intersection = set(v1.keys()) & set(v2.keys())\n",
    "    numerator = sum([v1[x] * v2[x] for x in intersection])\n",
    "    s1 = sum([v1[x]**2 for x in v1.keys()])\n",
    "    s2 = sum([v2[x]**2 for x in v2.keys()])\n",
    "    denominator = math.sqrt(s1) * math.sqrt(s2)\n",
    "\n",
    "    if not denominator:\n",
    "        return 0.0\n",
    "    else:\n",
    "        return float(numerator) / denominator\n",
    "\n",
    "\n",
    "\n",
    "def result(vector1, vector2):\n",
    "    cosine_result = cosine_sim(data_to_vector(vector1), data_to_vector(vector2))\n",
    "    return cosine_result"
   ]
  },
  {
   "cell_type": "code",
   "execution_count": 4,
   "metadata": {},
   "outputs": [],
   "source": [
    "#utilisation distance de Jaccard\n",
    "def jaccard(v1, v2):\n",
    "    v3 = v1.intersection(v2)\n",
    "    return float(len(v3)) / (len(v1) + len(v2) - len(v3))\n",
    "\n"
   ]
  },
  {
   "cell_type": "markdown",
   "metadata": {},
   "source": [
    "#### Les compagnies similaires à Spotify"
   ]
  },
  {
   "cell_type": "code",
   "execution_count": 5,
   "metadata": {},
   "outputs": [
    {
     "name": "stdout",
     "output_type": "stream",
     "text": [
      "similarité de spotify avec \n",
      "\n",
      "Spotify\n",
      "   resultat de cosine similarity  0.9999999999999998\n"
     ]
    },
    {
     "ename": "NameError",
     "evalue": "name 'jaccard' is not defined",
     "output_type": "error",
     "traceback": [
      "\u001b[0;31m---------------------------------------------------------------------------\u001b[0m",
      "\u001b[0;31mNameError\u001b[0m                                 Traceback (most recent call last)",
      "\u001b[0;32m<ipython-input-5-75dc6bbda19c>\u001b[0m in \u001b[0;36m<module>\u001b[0;34m\u001b[0m\n\u001b[1;32m      4\u001b[0m     \u001b[0mprint\u001b[0m\u001b[0;34m(\u001b[0m\u001b[0mx\u001b[0m\u001b[0;34m[\u001b[0m\u001b[0mi\u001b[0m\u001b[0;34m]\u001b[0m\u001b[0;34m)\u001b[0m\u001b[0;34m\u001b[0m\u001b[0;34m\u001b[0m\u001b[0m\n\u001b[1;32m      5\u001b[0m     \u001b[0mprint\u001b[0m\u001b[0;34m(\u001b[0m\u001b[0;34m'   resultat de cosine similarity '\u001b[0m\u001b[0;34m,\u001b[0m\u001b[0mresult\u001b[0m\u001b[0;34m(\u001b[0m\u001b[0mspotyTopic\u001b[0m\u001b[0;34m,\u001b[0m \u001b[0mstr\u001b[0m\u001b[0;34m(\u001b[0m\u001b[0my\u001b[0m\u001b[0;34m[\u001b[0m\u001b[0mi\u001b[0m\u001b[0;34m]\u001b[0m\u001b[0;34m)\u001b[0m\u001b[0;34m)\u001b[0m\u001b[0;34m)\u001b[0m\u001b[0;34m\u001b[0m\u001b[0;34m\u001b[0m\u001b[0m\n\u001b[0;32m----> 6\u001b[0;31m     \u001b[0mprint\u001b[0m\u001b[0;34m(\u001b[0m\u001b[0;34m'   resultat de distance de Jaccard '\u001b[0m\u001b[0;34m,\u001b[0m\u001b[0mjaccard\u001b[0m\u001b[0;34m(\u001b[0m\u001b[0mset\u001b[0m\u001b[0;34m(\u001b[0m\u001b[0my\u001b[0m\u001b[0;34m[\u001b[0m\u001b[0;36m0\u001b[0m\u001b[0;34m]\u001b[0m\u001b[0;34m)\u001b[0m\u001b[0;34m,\u001b[0m \u001b[0mset\u001b[0m\u001b[0;34m(\u001b[0m\u001b[0my\u001b[0m\u001b[0;34m[\u001b[0m\u001b[0mi\u001b[0m\u001b[0;34m]\u001b[0m\u001b[0;34m)\u001b[0m\u001b[0;34m)\u001b[0m\u001b[0;34m)\u001b[0m\u001b[0;34m\u001b[0m\u001b[0;34m\u001b[0m\u001b[0m\n\u001b[0m",
      "\u001b[0;31mNameError\u001b[0m: name 'jaccard' is not defined"
     ]
    }
   ],
   "source": [
    "spotyTopic= str(y[0])\n",
    "print('similarité de spotify avec \\n')\n",
    "for i in range(len(df)):\n",
    "    print(x[i])\n",
    "    print('   resultat de cosine similarity ',result(spotyTopic, str(y[i]))) \n",
    "    print('   resultat de distance de Jaccard ',jaccard(set(y[0]), set(y[i]))) "
   ]
  },
  {
   "cell_type": "markdown",
   "metadata": {},
   "source": [
    "### Les compagnies similaires à Nike"
   ]
  },
  {
   "cell_type": "code",
   "execution_count": null,
   "metadata": {},
   "outputs": [],
   "source": [
    "nikeTopic= str(y[2])\n",
    "\n",
    "print('similarité de nike avec \\n')\n",
    "for i in range(len(df)):\n",
    "    print(x[i])\n",
    "    print('   resultat de cosine similarity ',result(nikeTopic, str(y[i]))) \n",
    "    print('   resultat de distance de Jaccard ',jaccard(set(y[2]), set(y[i]))) "
   ]
  },
  {
   "cell_type": "markdown",
   "metadata": {},
   "source": [
    "### Les compagnies similaires à Uber"
   ]
  },
  {
   "cell_type": "code",
   "execution_count": null,
   "metadata": {},
   "outputs": [],
   "source": [
    "uberTopic= str(y[5])    \n",
    "print('similarité de uber avec \\n')\n",
    "for i in range(len(df)):\n",
    "    print(x[i])\n",
    "    print('   resultat de cosine similarity ',result(uberTopic, str(y[i]))) \n",
    "    print('   resultat de distance de Jaccard ',jaccard(set(y[5]), set(y[i]))) "
   ]
  },
  {
   "cell_type": "markdown",
   "metadata": {},
   "source": [
    "### Finding companies that are similar to Spotify, Nike, and Uber based on their names"
   ]
  },
  {
   "cell_type": "code",
   "execution_count": null,
   "metadata": {},
   "outputs": [],
   "source": [
    "#transformer les mots en vecteur en se basant sur l'occurence des caractères\n",
    "def word_to_vector(data):\n",
    "    return Counter(data)\n",
    "\n",
    "def result(vector1, vector2):\n",
    "    cosine_result = cosine_sim(word_to_vector(vector1), word_to_vector(vector2))\n",
    "    return cosine_result"
   ]
  },
  {
   "cell_type": "code",
   "execution_count": null,
   "metadata": {},
   "outputs": [],
   "source": [
    "def dist_jaccard(v1, v2):\n",
    "    a=set(v1)\n",
    "    b=set(v2)\n",
    "    c = a.intersection(b)\n",
    "    return float(len(c)) / (len(a) + len(b) - len(c))\n"
   ]
  },
  {
   "cell_type": "markdown",
   "metadata": {},
   "source": [
    "### Les compagnies similaires à Spotify"
   ]
  },
  {
   "cell_type": "code",
   "execution_count": null,
   "metadata": {},
   "outputs": [],
   "source": [
    "spotify= str(x[0])\n",
    "print('similarité de Spotify avec ')\n",
    "for i in range(len(df)):\n",
    "    print(x[i])\n",
    "    print('   resultat de cosine similarity ',result(spotify, str(x[i])))\n",
    "    print('   resultat de distance de Jaccard ',jaccard(str(x[0]), str(x[i])))"
   ]
  },
  {
   "cell_type": "markdown",
   "metadata": {},
   "source": [
    "### Les compagnies similaires à Nike"
   ]
  },
  {
   "cell_type": "code",
   "execution_count": null,
   "metadata": {},
   "outputs": [],
   "source": [
    "nike= str(x[2])\n",
    "print('similarité de Nike avec ')\n",
    "for i in range(len(df)):\n",
    "    print(x[i])\n",
    "    print('   resultat de cosine similarity ',result(nike, str(x[i])))\n",
    "    print('   resultat de distance de Jaccard ',jaccard(str(x[2]), str(x[i])))"
   ]
  },
  {
   "cell_type": "markdown",
   "metadata": {},
   "source": [
    "### Les compagnies similaires à Uber"
   ]
  },
  {
   "cell_type": "code",
   "execution_count": null,
   "metadata": {},
   "outputs": [],
   "source": [
    "uber= str(x[5])\n",
    "print('similarité de Uber avec ')\n",
    "for i in range(len(df)):\n",
    "    print(x[i])\n",
    "    print('   resultat de cosine similarity ',result(uber, str(x[i])))\n",
    "    print('   resultat de distance de Jaccard ',jaccard(str(x[5]), str(x[i])))"
   ]
  }
 ],
 "metadata": {
  "kernelspec": {
   "display_name": "Python 3",
   "language": "python",
   "name": "python3"
  },
  "language_info": {
   "codemirror_mode": {
    "name": "ipython",
    "version": 3
   },
   "file_extension": ".py",
   "mimetype": "text/x-python",
   "name": "python",
   "nbconvert_exporter": "python",
   "pygments_lexer": "ipython3",
   "version": "3.7.4"
  }
 },
 "nbformat": 4,
 "nbformat_minor": 2
}
